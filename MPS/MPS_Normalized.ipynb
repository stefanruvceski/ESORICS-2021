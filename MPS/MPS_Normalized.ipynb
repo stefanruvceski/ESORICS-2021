{
 "metadata": {
  "language_info": {
   "codemirror_mode": {
    "name": "ipython",
    "version": 3
   },
   "file_extension": ".py",
   "mimetype": "text/x-python",
   "name": "python",
   "nbconvert_exporter": "python",
   "pygments_lexer": "ipython3",
   "version": "3.8.6-final"
  },
  "orig_nbformat": 2,
  "kernelspec": {
   "name": "python3",
   "display_name": "Python 3.8.6 64-bit",
   "metadata": {
    "interpreter": {
     "hash": "560de52d041bc622820064af0057252378a1e2e0d406082954e0fb64c745b95b"
    }
   }
  }
 },
 "nbformat": 4,
 "nbformat_minor": 2,
 "cells": [
  {
   "cell_type": "code",
   "execution_count": null,
   "metadata": {},
   "outputs": [],
   "source": [
    "from numpy import array,float64,int64  \n",
    "from matplotlib import pyplot\n",
    "from pandas import read_csv,get_dummies\n",
    "from pandas import DataFrame\n",
    "from pandas import concat\n",
    "from sklearn.model_selection import train_test_split\n",
    "from sklearn.preprocessing import MinMaxScaler\n",
    "from sklearn.preprocessing import StandardScaler\n",
    "from sklearn.preprocessing import LabelEncoder\n",
    "from sklearn.metrics import mean_squared_error\n",
    "from keras.models import Sequential\n",
    "from keras.callbacks import ModelCheckpoint\n",
    "from keras.callbacks import EarlyStopping\n",
    "from keras.layers import Dense\n",
    "from keras.layers import LSTM\n",
    "from keras.layers import Dropout"
   ]
  },
  {
   "cell_type": "code",
   "execution_count": null,
   "metadata": {},
   "outputs": [],
   "source": [
    "path = os.path.dirname(os.getcwd())\n",
    "\n",
    "df_train = load_dataset(path + '/data/2015_train.csv')\n",
    "df_test = load_dataset(path + '/data/2015_test.csv')\n",
    "\n",
    "normalize_dataframes(df_train,df_test)\n",
    "\n",
    "train_set = get_df_values(df_train) \n",
    "test_set = get_df_values(df_test)\n",
    "\n",
    "X,y = split_sequences(sequences=train_set, n_steps = 10,)\n",
    "\n",
    "model = compile_model(n_steps_in = 10,n_features_in = 51)\n",
    "print(model.summary())\n",
    "\n",
    "history = train_model(model=model,X=X,y=y,_validation_split = 0.3,_epoch=100,_batch_size=32,\n",
    "_modelCheckpoint_path= path + '/MPS/TempNormalized',_modelCheckpoint_monitor='val_accuracy')\n",
    "\n"
   ]
  },
  {
   "cell_type": "code",
   "execution_count": null,
   "metadata": {},
   "outputs": [],
   "source": [
    "def load_dataset(name):\n",
    "    df = read_csv(name)\n",
    "    df.drop(['Timestamp','Status'],axis=1, inplace=True)\n",
    "    return df"
   ]
  },
  {
   "cell_type": "code",
   "execution_count": null,
   "metadata": {},
   "outputs": [],
   "source": [
    "def normalize_dataframes(df_train,df_test):\n",
    "    sc = MinMaxScaler(feature_range = (0, 1))\n",
    "\n",
    "    df_train.loc[:, df_train.dtypes == float64] = sc.fit_transform(df_train.loc[:, df_train.dtypes == float64])\n",
    "    df_test.loc[:, df_test.dtypes == float64] = sc.transform(df_test.loc[:, df_test.dtypes == float64])"
   ]
  },
  {
   "cell_type": "code",
   "execution_count": null,
   "metadata": {},
   "outputs": [],
   "source": [
    "def get_df_values(df):\n",
    "    return df.values"
   ]
  },
  {
   "cell_type": "code",
   "execution_count": null,
   "metadata": {},
   "outputs": [],
   "source": [
    "def split_sequences(sequences, n_steps):\n",
    "\tX, y = list(), list()\n",
    "\tfor i in range(len(sequences)):\n",
    "\t\t# find the end of this pattern\n",
    "\t\tend_ix = i + n_steps\n",
    "\t\t# check if we are beyond the dataset\n",
    "\t\tif end_ix > len(sequences)-1:\n",
    "\t\t\tbreak\n",
    "\t\t# gather input and output parts of the pattern\n",
    "\t\tseq_x, seq_y = sequences[i:end_ix, :], sequences[end_ix, :]\n",
    "\t\tX.append(seq_x)\n",
    "\t\ty.append(seq_y)\n",
    "\treturn array(X), array(y)"
   ]
  },
  {
   "cell_type": "code",
   "execution_count": null,
   "metadata": {},
   "outputs": [],
   "source": [
    "def compile_model(n_steps_in,n_features_in):\n",
    "    # define model\n",
    "    model = Sequential()\n",
    "    model.add(LSTM(200, activation='relu', return_sequences=True, input_shape=(n_steps_in, n_features_in)))\n",
    "    model.add(LSTM(300, activation='relu',return_sequences=True))\n",
    "    model.add(LSTM(200, activation='relu'))\n",
    "    model.add(Dense(n_features_in,activation='relu'))\n",
    "    model.compile(optimizer='adam', loss='mse',metrics=['accuracy'])\n",
    "    return model\n",
    "\n"
   ]
  },
  {
   "cell_type": "code",
   "execution_count": null,
   "metadata": {},
   "outputs": [],
   "source": [
    "def train_model(model,X,y,_validation_split,_epoch,_batch_size,_modelCheckpoint_path,_modelCheckpoint_monitor):\n",
    "    return model.fit(X,y,validation_split=_validation_split, epochs = _epoch, batch_size = _batch_size, callbacks= [EarlyStopping(monitor='val_accuracy',patience=10,verbose=1), ModelCheckpoint(_modelCheckpoint_path, monitor=_modelCheckpoint_monitor,save_best_only=True)], verbose=1)"
   ]
  },
  {
   "cell_type": "code",
   "execution_count": null,
   "metadata": {},
   "outputs": [],
   "source": [
    "def predict_from_excel(_excel_row,n_steps_in,_features_in):\n",
    "    predvidanje = _excel_row\n",
    "    x_input = test_set[predvidanje-13:predvidanje-3]\n",
    "    \n",
    "    x_input = x_input.reshape((1, n_steps_in, _features_in))\n",
    "    yhat = model.predict(x_input, verbose=1)\n",
    "    return yhat\n"
   ]
  },
  {
   "cell_type": "code",
   "execution_count": null,
   "metadata": {},
   "outputs": [],
   "source": [
    "def plot_prediction(yhat,actual):\n",
    "    pyplot.figure(figsize=(100,50))\n",
    "    pyplot.plot(yhat, label='predict')\n",
    "    pyplot.plot(actual, label='actual')\n",
    "\n",
    "    pyplot.legend()\n",
    "    pyplot.show()"
   ]
  },
  {
   "cell_type": "code",
   "execution_count": null,
   "metadata": {},
   "outputs": [],
   "source": [
    "prediction = []\n",
    "actual = []\n",
    "for i in range(10):\n",
    "    yhat = predict_from_excel(100000+i,10,51)\n",
    "    prediction.append(yhat[0])\n",
    "    actual.append(test_set[100000+i-2])"
   ]
  },
  {
   "cell_type": "code",
   "execution_count": null,
   "metadata": {},
   "outputs": [],
   "source": [
    "#plot_prediction(yhat[0],actual[0])\n",
    "actual[0]"
   ]
  }
 ]
}